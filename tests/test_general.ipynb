{
 "cells": [
  {
   "cell_type": "code",
   "execution_count": 1,
   "metadata": {},
   "outputs": [],
   "source": [
    "from tavily import TavilyClient\n",
    "\n",
    "client = TavilyClient(\"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\")"
   ]
  },
  {
   "cell_type": "code",
   "execution_count": 3,
   "metadata": {},
   "outputs": [
    {
     "name": "stdout",
     "output_type": "stream",
     "text": [
      "{'query': 'Who is Leo Messi?', 'follow_up_questions': None, 'answer': None, 'images': [], 'results': [{'title': 'Lionel Messi: Biography, Soccer Player, Inter Miami CF, Athlete', 'url': 'https://www.biography.com/athletes/lionel-messi', 'content': 'Lionel Messi, a forward for Inter Miami CF, is one of the world’s greatest soccer players and helped the Argentina national team win its third FIFA World Cup in 2022. Messi, now playing for Inter Miami CF of the MLS, helped his home country win soccer’s biggest event for the first time since 1986, scoring two goals in the final and leading Argentina to a 4-2 win over Kylian Mbappé and France on penalties. Lionel Messi is an Argentinian soccer player who has played for FC Barcelona, Paris Saint-Germain, and currently, the MLS club Inter Miami CF as well as the Argentina national team.', 'score': 0.79901963, 'raw_content': None}, {'title': 'Lionel Messi - Wikipedia', 'url': 'https://en.wikipedia.org/wiki/Lionel_Messi', 'content': \"Messi began the 2011–12 season winning both the Spanish and European Super Cups trophies.[91][92] At the close of the year, he won the FIFA Club World Cup and earned the Golden Ball for a second time.[93] For his efforts in 2011, he received the FIFA Ballon d'Or, becoming only the fourth player in history to win the Ballon d'Or three times,[94] and the inaugural UEFA Best Player in Europe Award.[95] During the year 2012, Messi became the second player to be top scorer in four Champions League campaigns.[96][97] Messi became the top goalscorer in Barcelona's history at 24 years old, overtaking the 57-year record of César Rodríguez's 232 goals with a hat-trick against Granada.[98] He finished the season as league top scorer in Spain and Europe for a second time, with 50 goals, a La Liga record, while his 73 goals in all competitions made him the single-season top scorer in the history of European club football excluding regional and local competitions.[99][100] The team would also win the Copa del Rey that season, their 14th trophy under Guardiola, who resigned following the season after a four-year cycle of success.[101]\", 'score': 0.60049355, 'raw_content': None}, {'title': \"Lionel Messi | Biography, Trophies, Records, Ballon d'Or, Inter Miami ...\", 'url': 'https://www.britannica.com/biography/Lionel-Messi', 'content': 'Lionel Messi scored 73 goals during the 2011–12 season while playing for FC Barcelona, breaking\\xa0a 39-year-old record for single-season goals in a major European football league. Britannica Quiz Great Moments in Sports QuizMessi’s play continued to rapidly improve over the years, and by 2008 he was one of the most dominant players in the world, finishing second to Manchester United’s Cristiano Ronaldo in the voting for the 2008 Ballon d’Or. In early 2009 Messi capped off a spectacular 2008–09 season by helping FC Barcelona capture the club’s first “treble” (winning three major European club titles in one season): the team won the La Liga championship, the Copa del Rey (Spain’s major domestic cup), and the Champions League title.', 'score': 0.54782754, 'raw_content': None}, {'title': 'Lionel Messi - Simple English Wikipedia, the free encyclopedia', 'url': 'https://simple.wikipedia.org/wiki/Lionel_Messi', 'content': 'Messi with Argentina at the 2022 FIFA World Cup ↑ Six appearances and two goals in Copa América, four appearances and two goals in FIFA World Cup qualification ↑ Four appearances in Copa América, four appearances and two goals in FIFA World Cup qualification ↑ \"Lionel Messi retires from Argentina after Copa America final loss to Chile\". ↑ \"FIFA World Cup Qatar 2022 will be last says Lionel Messi\". ↑ \"Lionel Andrés Messi – Goals in International Matches\". ↑ 36.0 36.1 \"Lionel Messi, 2014–15 Liga BBVA Best Player\". ↑ \"Lionel Messi named Best Striker in La Liga Santander 2015–16\". ↑ \"Team of the Year 2015: Lionel Messi\".', 'score': 0.4048609, 'raw_content': None}, {'title': 'Career of Lionel Messi - Wikipedia', 'url': 'https://en.wikipedia.org/wiki/Career_of_Lionel_Messi', 'content': \"Jump to content Toggle the table of contents Article This article is part of a series about As a result, Messi remained virtually injury-free during the next four years, allowing him to reach his full potential.[39][59] Despite his injuries early in the year, his performances in 2008 saw him again voted runner-up for the Ballon d'Or and the FIFA World Player of the Year award, both times behind Cristiano Ronaldo.[51][60] Jump up to: Jump up to: Jump up to: Jump up to: Jump up to: Jump up to: By using this site, you agree to the Terms of Use and Privacy Policy. Privacy policy\", 'score': 0.2829861, 'raw_content': None}], 'response_time': 1.83}\n"
     ]
    }
   ],
   "source": [
    "response = client.search(\"Who is Leo Messi?\")\n",
    "print(response)"
   ]
  },
  {
   "cell_type": "code",
   "execution_count": 4,
   "metadata": {},
   "outputs": [
    {
     "name": "stdout",
     "output_type": "stream",
     "text": [
      "Lionel Messi: Biography, Soccer Player, Inter Miami CF, Athlete\n",
      "Lionel Messi, a forward for Inter Miami CF, is one of the world’s greatest soccer players and helped the Argentina national team win its third FIFA World Cup in 2022. Messi, now playing for Inter Miami CF of the MLS, helped his home country win soccer’s biggest event for the first time since 1986, scoring two goals in the final and leading Argentina to a 4-2 win over Kylian Mbappé and France on penalties. Lionel Messi is an Argentinian soccer player who has played for FC Barcelona, Paris Saint-Germain, and currently, the MLS club Inter Miami CF as well as the Argentina national team.\n",
      "Lionel Messi - Wikipedia\n",
      "Messi began the 2011–12 season winning both the Spanish and European Super Cups trophies.[91][92] At the close of the year, he won the FIFA Club World Cup and earned the Golden Ball for a second time.[93] For his efforts in 2011, he received the FIFA Ballon d'Or, becoming only the fourth player in history to win the Ballon d'Or three times,[94] and the inaugural UEFA Best Player in Europe Award.[95] During the year 2012, Messi became the second player to be top scorer in four Champions League campaigns.[96][97] Messi became the top goalscorer in Barcelona's history at 24 years old, overtaking the 57-year record of César Rodríguez's 232 goals with a hat-trick against Granada.[98] He finished the season as league top scorer in Spain and Europe for a second time, with 50 goals, a La Liga record, while his 73 goals in all competitions made him the single-season top scorer in the history of European club football excluding regional and local competitions.[99][100] The team would also win the Copa del Rey that season, their 14th trophy under Guardiola, who resigned following the season after a four-year cycle of success.[101]\n",
      "Lionel Messi | Biography, Trophies, Records, Ballon d'Or, Inter Miami ...\n",
      "Lionel Messi scored 73 goals during the 2011–12 season while playing for FC Barcelona, breaking a 39-year-old record for single-season goals in a major European football league. Britannica Quiz Great Moments in Sports QuizMessi’s play continued to rapidly improve over the years, and by 2008 he was one of the most dominant players in the world, finishing second to Manchester United’s Cristiano Ronaldo in the voting for the 2008 Ballon d’Or. In early 2009 Messi capped off a spectacular 2008–09 season by helping FC Barcelona capture the club’s first “treble” (winning three major European club titles in one season): the team won the La Liga championship, the Copa del Rey (Spain’s major domestic cup), and the Champions League title.\n",
      "Lionel Messi - Simple English Wikipedia, the free encyclopedia\n",
      "Messi with Argentina at the 2022 FIFA World Cup ↑ Six appearances and two goals in Copa América, four appearances and two goals in FIFA World Cup qualification ↑ Four appearances in Copa América, four appearances and two goals in FIFA World Cup qualification ↑ \"Lionel Messi retires from Argentina after Copa America final loss to Chile\". ↑ \"FIFA World Cup Qatar 2022 will be last says Lionel Messi\". ↑ \"Lionel Andrés Messi – Goals in International Matches\". ↑ 36.0 36.1 \"Lionel Messi, 2014–15 Liga BBVA Best Player\". ↑ \"Lionel Messi named Best Striker in La Liga Santander 2015–16\". ↑ \"Team of the Year 2015: Lionel Messi\".\n",
      "Career of Lionel Messi - Wikipedia\n",
      "Jump to content Toggle the table of contents Article This article is part of a series about As a result, Messi remained virtually injury-free during the next four years, allowing him to reach his full potential.[39][59] Despite his injuries early in the year, his performances in 2008 saw him again voted runner-up for the Ballon d'Or and the FIFA World Player of the Year award, both times behind Cristiano Ronaldo.[51][60] Jump up to: Jump up to: Jump up to: Jump up to: Jump up to: Jump up to: By using this site, you agree to the Terms of Use and Privacy Policy. Privacy policy\n"
     ]
    }
   ],
   "source": [
    "for result in response['results']:\n",
    "    print(result['title'])\n",
    "    print(result['content'])"
   ]
  },
  {
   "cell_type": "code",
   "execution_count": null,
   "metadata": {},
   "outputs": [],
   "source": []
  },
  {
   "cell_type": "code",
   "execution_count": null,
   "metadata": {},
   "outputs": [],
   "source": []
  },
  {
   "cell_type": "code",
   "execution_count": null,
   "metadata": {},
   "outputs": [],
   "source": []
  },
  {
   "cell_type": "code",
   "execution_count": null,
   "metadata": {},
   "outputs": [],
   "source": []
  }
 ],
 "metadata": {
  "kernelspec": {
   "display_name": "co_scientist",
   "language": "python",
   "name": "python3"
  },
  "language_info": {
   "codemirror_mode": {
    "name": "ipython",
    "version": 3
   },
   "file_extension": ".py",
   "mimetype": "text/x-python",
   "name": "python",
   "nbconvert_exporter": "python",
   "pygments_lexer": "ipython3",
   "version": "3.11.11"
  }
 },
 "nbformat": 4,
 "nbformat_minor": 2
}
